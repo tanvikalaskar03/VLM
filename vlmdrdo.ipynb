{
  "cells": [
    {
      "cell_type": "markdown",
      "source": [
        "[Phi-3-vision-128k-instruct Huggingface](https://huggingface.co/microsoft/Phi-3-vision-128k-instruct)"
      ],
      "metadata": {
        "id": "7vuXmbxO7Tv3"
      }
    },
    {
      "cell_type": "code",
      "source": [
        "#@title Install and Auto restart\n",
        "import os\n",
        "root_path=os.getcwd()\n",
        "# root_path=\"/content\"\n",
        "base_path=f\"{root_path}\"\n",
        "\n",
        "requirements_content = \"\"\"accelerate==0.30.1\n",
        "flash_attn==2.5.8\n",
        "numpy==1.24.4\n",
        "Pillow==10.1.0\n",
        "Requests==2.31.0\n",
        "transformers==4.40.2\n",
        "gradio==4.29.0\n",
        "pydub==0.25.1\n",
        "edge-tts\n",
        "# gradio==4.15.0\n",
        "# Pillow==10.3.0\n",
        "# torch==2.3.0\n",
        "# torchvision==0.18.0\n",
        "\"\"\"\n",
        "with open(f\"{base_path}/requirements.txt\", \"w\") as file:\n",
        "    file.write(requirements_content)\n",
        "\n",
        "print(f\"File '{base_path}/requirements.txt' has been successfully created with the specified contents.\")\n",
        "\n",
        "from google.colab import output\n",
        "# output.eval_js('new Audio(\"https://github.com/neuralfalcon/Roop-Image-FaceSwap/raw/main/start.mp3\").play()')\n",
        "!pip install -r $base_path/requirements.txt\n",
        "from IPython.display import clear_output\n",
        "clear_output()\n",
        "# output.eval_js('new Audio(\"https://github.com/neuralfalcon/Roop-Image-FaceSwap/raw/main/install_voice.mp3\").play()')\n",
        "import time\n",
        "time.sleep(6)\n",
        "import os\n",
        "os.kill(os.getpid(), 9)"
      ],
      "metadata": {
        "id": "4Da9fw0Jf6jQ"
      },
      "execution_count": null,
      "outputs": []
    },
    {
      "cell_type": "markdown",
      "source": [
        "# After runtime disconneted Run from here 👇"
      ],
      "metadata": {
        "id": "6Zj1jLWpkfme"
      }
    },
    {
      "cell_type": "code",
      "source": [
        "#@title <-- Play the audio { display-mode: \"form\" }\n",
        "\n",
        "%%html\n",
        "<b>Press play on the music player to keep the tab alive, then run the cell below</b><br/>\n",
        "<audio src=\"https://raw.githubusercontent.com/KoboldAI/KoboldAI-Client/main/colab/silence.m4a\" controls>"
      ],
      "metadata": {
        "colab": {
          "base_uri": "https://localhost:8080/",
          "height": 92
        },
        "id": "1wAV2wi93c93",
        "outputId": "dd832a78-a96c-4398-bfe0-8e05899e67b0"
      },
      "execution_count": null,
      "outputs": [
        {
          "output_type": "display_data",
          "data": {
            "text/plain": [
              "<IPython.core.display.HTML object>"
            ],
            "text/html": [
              "<b>Press play on the music player to keep the tab alive, then run the cell below</b><br/>\n",
              "<audio src=\"https://raw.githubusercontent.com/KoboldAI/KoboldAI-Client/main/colab/silence.m4a\" controls>\n"
            ]
          },
          "metadata": {}
        }
      ]
    },
    {
      "cell_type": "code",
      "source": [
        "#@title Download /microsoft/Phi-3-vision-128k-instruct\n",
        "from tqdm import tqdm\n",
        "import urllib\n",
        "import os\n",
        "import shutil\n",
        "def conditional_download(url, download_file_path):\n",
        "    print(f\"Downloading {os.path.basename(download_file_path)}\")\n",
        "    base_path = os.path.dirname(download_file_path)\n",
        "\n",
        "    if not os.path.exists(base_path):\n",
        "        os.makedirs(base_path)\n",
        "\n",
        "    if os.path.exists(download_file_path):\n",
        "        os.remove(download_file_path)\n",
        "\n",
        "    try:\n",
        "        request = urllib.request.urlopen(url)  # type: ignore[attr-defined]\n",
        "        total = int(request.headers.get('Content-Length', 0))\n",
        "    except urllib.error.URLError as e:\n",
        "        print(f\"Error: Unable to open the URL - {url}\")\n",
        "        print(f\"Reason: {e.reason}\")\n",
        "        return\n",
        "\n",
        "    with tqdm(total=total, desc='Downloading', unit='B', unit_scale=True, unit_divisor=1024) as progress:\n",
        "        try:\n",
        "            urllib.request.urlretrieve(url, download_file_path, reporthook=lambda count, block_size, total_size: progress.update(block_size))  # type: ignore[attr-defined]\n",
        "        except urllib.error.URLError as e:\n",
        "            print(f\"Error: Failed to download the file from the URL - {url}\")\n",
        "            print(f\"Reason: {e.reason}\")\n",
        "            return\n",
        "\n",
        "    print(f\"Download successful!\")\n",
        "    print(f\"URL: {url}\")\n",
        "    print(f\"Save at: {download_file_path}\")\n",
        "\n",
        "\n",
        "#set up base_path\n",
        "import os\n",
        "root_path=os.getcwd()\n",
        "# root_path=\"/content\"\n",
        "base_path=f\"{root_path}\"\n",
        "\n",
        "\n",
        "\n",
        "download_dir=f\"{base_path}/microsoft/Phi-3-vision-128k-instruct\"\n",
        "if not os.path.exists(download_dir):\n",
        "    os.makedirs(download_dir)\n",
        "download_list = [\n",
        "    \"config.json\",\n",
        "    \"configuration_phi3_v.py\",\n",
        "    \"image_embedding_phi3_v.py\",\n",
        "    \"image_processing_phi3_v.py\",\n",
        "    \"model.safetensors.index.json\",\n",
        "    \"modeling_phi3_v.py\",\n",
        "    \"preprocessor_config.json\",\n",
        "    \"processing_phi3_v.py\",\n",
        "    \"sample_inference.py\",\n",
        "    \"special_tokens_map.json\",\n",
        "    \"tokenizer.json\",\n",
        "    \"tokenizer_config.json\",\n",
        "    \"model-00001-of-00002.safetensors\",\n",
        "    \"model-00002-of-00002.safetensors\"\n",
        "]\n",
        "base_url=\"https://huggingface.co/microsoft/Phi-3-vision-128k-instruct/resolve/main\"\n",
        "# fix_url=\"https://raw.githubusercontent.com/neuralfalcon/Phi-3-vision-128k-instruct-colab/main/\"\n",
        "for i in download_list:\n",
        "  # if i==\"config.json\" or i==\"modeling_phi3_v.py\":\n",
        "  #   file_url=f\"{fix_url}/{i}\"\n",
        "  # else:\n",
        "  #   file_url=f\"{base_url}/{i}\"\n",
        "  file_url=f\"{base_url}/{i}\"\n",
        "  download_file_path=f\"{download_dir}/{i}\"\n",
        "  conditional_download(file_url, download_file_path)\n",
        "from IPython.display import clear_output\n",
        "clear_output()"
      ],
      "metadata": {
        "id": "P12E4WjghVQO"
      },
      "execution_count": null,
      "outputs": []
    },
    {
      "cell_type": "code",
      "source": [
        "#@title import /microsoft/Phi-3-vision-128k-instruct\n",
        "import os\n",
        "root_path=os.getcwd()\n",
        "# root_path=\"/content\"\n",
        "base_path=f\"{root_path}\"\n",
        "from PIL import Image\n",
        "import requests\n",
        "from transformers import AutoModelForCausalLM\n",
        "from transformers import AutoProcessor\n",
        "import os\n",
        "model_id = f\"{base_path}/microsoft/Phi-3-vision-128k-instruct\"\n",
        "model = AutoModelForCausalLM.from_pretrained(model_id, device_map=\"cuda\", trust_remote_code=True, torch_dtype=\"auto\", _attn_implementation=\"eager\")\n",
        "processor = AutoProcessor.from_pretrained(model_id, trust_remote_code=True)"
      ],
      "metadata": {
        "colab": {
          "base_uri": "https://localhost:8080/",
          "height": 105,
          "referenced_widgets": [
            "baefad86601246999fefcb32c9fbbc3c",
            "ea49aed15b314c73bf7ce49b8473cf81",
            "978aaa1d0eb647c9ad6ad7ed63b3a1a2",
            "95fd5285e5c841c4b54b35cc0182c54e",
            "6d5cb9314a634a6f89c4c204acdc5a52",
            "d0041e7e3a0448af801cf9b7d314e249",
            "66a480f2c59045f8901a5f23197e7251",
            "7dda8d0226704e5e86564c5c1d4dd33c",
            "5ec14d6594fc4ac4b0ea91bea8ecfdd3",
            "dd1b80f4f897478e9dbe934c4099bd65",
            "d27b8ef107ab4a319306102de5a6fd3c"
          ]
        },
        "id": "75S2wrFliCEx",
        "outputId": "42574249-7065-4367-87ff-7d2af8a7bffa"
      },
      "execution_count": null,
      "outputs": [
        {
          "output_type": "display_data",
          "data": {
            "text/plain": [
              "Loading checkpoint shards:   0%|          | 0/2 [00:00<?, ?it/s]"
            ],
            "application/vnd.jupyter.widget-view+json": {
              "version_major": 2,
              "version_minor": 0,
              "model_id": "baefad86601246999fefcb32c9fbbc3c"
            }
          },
          "metadata": {}
        },
        {
          "output_type": "stream",
          "name": "stderr",
          "text": [
            "/usr/local/lib/python3.10/dist-packages/transformers/models/auto/image_processing_auto.py:513: FutureWarning: The image_processor_class argument is deprecated and will be removed in v4.42. Please use `slow_image_processor_class`, or `fast_image_processor_class` instead\n",
            "  warnings.warn(\n"
          ]
        }
      ]
    },
    {
      "cell_type": "code",
      "source": [
        "#@title Main code\n",
        "temp_image=\"\"\n",
        "def ask_question(question=\"What is shown in this image?\",user_image=\"\"):\n",
        "  global temp_image\n",
        "  if os.path.exists(user_image):\n",
        "    image = Image.open(user_image)\n",
        "    temp_image=user_image\n",
        "  elif os.path.exists(temp_image):\n",
        "    image = Image.open(temp_image)\n",
        "  else:\n",
        "    return \"Please upload a image\"\n",
        "\n",
        "  messages = [\n",
        "      {\"role\": \"user\", \"content\": f\"<|image_1|>\\n{question}\"},\n",
        "      # {\"role\": \"assistant\", \"content\": \"The chart displays the percentage of respondents who agree with various statements about their preparedness for meetings. It shows five categories: 'Having clear and pre-defined goals for meetings', 'Knowing where to find the information I need for a meeting', 'Understanding my exact role and responsibilities when I'm invited', 'Having tools to manage admin tasks like note-taking or summarization', and 'Having more focus time to sufficiently prepare for meetings'. Each category has an associated bar indicating the level of agreement, measured on a scale from 0% to 100%.\"},\n",
        "      # {\"role\": \"user\", \"content\": \"Provide insightful questions to spark discussion.\"}\n",
        "  ]\n",
        "\n",
        "  # url = \"https://assets-c4akfrf5b4d3f4b7.z01.azurefd.net/assets/2024/04/BMDataViz_661fb89f3845e.png\"\n",
        "  # image = Image.open(requests.get(url, stream=True).raw)\n",
        "\n",
        "\n",
        "  prompt = processor.tokenizer.apply_chat_template(messages, tokenize=False, add_generation_prompt=True)\n",
        "\n",
        "  inputs = processor(prompt, [image], return_tensors=\"pt\").to(\"cuda:0\")\n",
        "\n",
        "  generation_args = {\n",
        "      \"max_new_tokens\": 500,\n",
        "      \"temperature\": 0.0,\n",
        "      \"do_sample\": False,\n",
        "  }\n",
        "\n",
        "  generate_ids = model.generate(**inputs, eos_token_id=processor.tokenizer.eos_token_id, **generation_args)\n",
        "\n",
        "  # remove input tokens\n",
        "  generate_ids = generate_ids[:, inputs['input_ids'].shape[1]:]\n",
        "  response = processor.batch_decode(generate_ids, skip_special_tokens=True, clean_up_tokenization_spaces=False)[0]\n",
        "\n",
        "  # print(response)\n",
        "  return response.strip()\n",
        "\n",
        "\n",
        "import matplotlib.pyplot as plt\n",
        "from PIL import Image\n",
        "\n",
        "def display_resized_image(image_path, max_size=(800, 800)):\n",
        "    \"\"\"\n",
        "    Reads an image from the given path, resizes it to fit within the specified max size,\n",
        "    and displays it using Matplotlib.\n",
        "\n",
        "    Parameters:\n",
        "    - image_path: str, path to the image file.\n",
        "    - max_size: tuple, (width, height) maximum size for the resized image. Default is (800, 800).\n",
        "    \"\"\"\n",
        "    # Load the image\n",
        "    image = Image.open(image_path)\n",
        "\n",
        "    # Resize the image to fit within the max_size, maintaining the aspect ratio\n",
        "    image.thumbnail(max_size, Image.LANCZOS)\n",
        "\n",
        "    # Display the image using Matplotlib\n",
        "    plt.figure(figsize=(3, 3))\n",
        "    plt.imshow(image)\n",
        "    plt.axis('off')  # Hide the axes\n",
        "    plt.show()\n"
      ],
      "metadata": {
        "id": "t9AM5Ki7lewv"
      },
      "execution_count": null,
      "outputs": []
    },
    {
      "cell_type": "code",
      "source": [
        "user_image = '/content/Screenshot 2024-07-17 114514.png'  # @param {type: \"string\"}\n",
        "question = 'Describe the image'  # @param {type: \"string\"}\n",
        "\n",
        "answer=ask_question(question,user_image)\n",
        "display_resized_image(user_image)\n",
        "answer"
      ],
      "metadata": {
        "colab": {
          "base_uri": "https://localhost:8080/",
          "height": 451
        },
        "cellView": "form",
        "id": "aUJ2KRW2muab",
        "outputId": "57cef1eb-694e-452b-e3a7-c3dc8b7cfc8c"
      },
      "execution_count": null,
      "outputs": [
        {
          "output_type": "stream",
          "name": "stderr",
          "text": [
            "/usr/local/lib/python3.10/dist-packages/transformers/generation/configuration_utils.py:567: UserWarning: `do_sample` is set to `False`. However, `temperature` is set to `0.0` -- this flag is only used in sample-based generation modes. You should set `do_sample=True` or unset `temperature`.\n",
            "  warnings.warn(\n",
            "The `seen_tokens` attribute is deprecated and will be removed in v4.41. Use the `cache_position` model input instead.\n",
            "/root/.cache/huggingface/modules/transformers_modules/Phi-3-vision-128k-instruct/image_embedding_phi3_v.py:197: UserWarning: Phi-3-V modifies `input_ids` in-place and the tokens indicating images will be removed after model forward. If your workflow requires multiple forward passes on the same `input_ids`, please make a copy of `input_ids` before passing it to the model.\n",
            "  warnings.warn(\n",
            "WARNING:transformers_modules.Phi-3-vision-128k-instruct.modeling_phi3_v:You are not running the flash-attention implementation, expect numerical differences.\n"
          ]
        },
        {
          "output_type": "display_data",
          "data": {
            "text/plain": [
              "<Figure size 300x300 with 1 Axes>"
            ],
            "image/png": "[encoded data removed]"
          },
          "metadata": {}
        },
        {
          "output_type": "execute_result",
          "data": {
            "text/plain": [
              "\"The image shows a dark background with the word 'Primitive' in large white letters at the top. Below it, there are four words in white, each on a separate line and aligned to the left. The words are 'byte', 'short', 'char', and 'boolean'. There is a yellow arrow pointing to the word 'Primitive'.\""
            ],
            "application/vnd.google.colaboratory.intrinsic+json": {
              "type": "string"
            }
          },
          "metadata": {},
          "execution_count": 5
        }
      ]
    },
    {
      "cell_type": "code",
      "source": [
        "pip install gradio"
      ],
      "metadata": {
        "colab": {
          "base_uri": "https://localhost:8080/",
          "height": 1000
        },
        "id": "oC5b2qvhQ2pJ",
        "outputId": "e2d16186-ffac-4620-b0b0-1fd594f6996b"
      },
      "execution_count": null,
      "outputs": [
        {
          "output_type": "stream",
          "name": "stdout",
          "text": [
            "Collecting gradio\n",
            "  Downloading gradio-5.0.2-py3-none-any.whl.metadata (15 kB)\n",
            "Collecting aiofiles<24.0,>=22.0 (from gradio)\n",
            "  Using cached aiofiles-23.2.1-py3-none-any.whl.metadata (9.7 kB)\n",
            "Requirement already satisfied: anyio<5.0,>=3.0 in /usr/local/lib/python3.10/dist-packages (from gradio) (3.7.1)\n",
            "Collecting fastapi<1.0 (from gradio)\n",
            "  Using cached fastapi-0.115.2-py3-none-any.whl.metadata (27 kB)\n",
            "Collecting ffmpy (from gradio)\n",
            "  Using cached ffmpy-0.4.0-py3-none-any.whl.metadata (2.9 kB)\n",
            "Collecting gradio-client==1.4.0 (from gradio)\n",
            "  Downloading gradio_client-1.4.0-py3-none-any.whl.metadata (7.1 kB)\n",
            "Collecting httpx>=0.24.1 (from gradio)\n",
            "  Using cached httpx-0.27.2-py3-none-any.whl.metadata (7.1 kB)\n",
            "Collecting huggingface-hub>=0.25.1 (from gradio)\n",
            "  Downloading huggingface_hub-0.25.2-py3-none-any.whl.metadata (13 kB)\n",
            "Requirement already satisfied: jinja2<4.0 in /usr/local/lib/python3.10/dist-packages (from gradio) (3.1.4)\n",
            "Requirement already satisfied: markupsafe~=2.0 in /usr/local/lib/python3.10/dist-packages (from gradio) (2.1.5)\n",
            "Requirement already satisfied: numpy<3.0,>=1.0 in /usr/local/lib/python3.10/dist-packages (from gradio) (1.26.4)\n",
            "Collecting orjson~=3.0 (from gradio)\n",
            "  Using cached orjson-3.10.7-cp310-cp310-manylinux_2_17_x86_64.manylinux2014_x86_64.whl.metadata (50 kB)\n",
            "Requirement already satisfied: packaging in /usr/local/lib/python3.10/dist-packages (from gradio) (24.1)\n",
            "Requirement already satisfied: pandas<3.0,>=1.0 in /usr/local/lib/python3.10/dist-packages (from gradio) (2.2.2)\n",
            "Requirement already satisfied: pillow<11.0,>=8.0 in /usr/local/lib/python3.10/dist-packages (from gradio) (10.4.0)\n",
            "Requirement already satisfied: pydantic>=2.0 in /usr/local/lib/python3.10/dist-packages (from gradio) (2.9.2)\n",
            "Collecting pydub (from gradio)\n",
            "  Using cached pydub-0.25.1-py2.py3-none-any.whl.metadata (1.4 kB)\n",
            "Collecting python-multipart>=0.0.9 (from gradio)\n",
            "  Using cached python_multipart-0.0.12-py3-none-any.whl.metadata (1.9 kB)\n",
            "Requirement already satisfied: pyyaml<7.0,>=5.0 in /usr/local/lib/python3.10/dist-packages (from gradio) (6.0.2)\n",
            "Collecting ruff>=0.2.2 (from gradio)\n",
            "  Using cached ruff-0.6.9-py3-none-manylinux_2_17_x86_64.manylinux2014_x86_64.whl.metadata (25 kB)\n",
            "Collecting semantic-version~=2.0 (from gradio)\n",
            "  Using cached semantic_version-2.10.0-py2.py3-none-any.whl.metadata (9.7 kB)\n",
            "Collecting tomlkit==0.12.0 (from gradio)\n",
            "  Using cached tomlkit-0.12.0-py3-none-any.whl.metadata (2.7 kB)\n",
            "Requirement already satisfied: typer<1.0,>=0.12 in /usr/local/lib/python3.10/dist-packages (from gradio) (0.12.5)\n",
            "Requirement already satisfied: typing-extensions~=4.0 in /usr/local/lib/python3.10/dist-packages (from gradio) (4.12.2)\n",
            "Collecting uvicorn>=0.14.0 (from gradio)\n",
            "  Using cached uvicorn-0.31.1-py3-none-any.whl.metadata (6.6 kB)\n",
            "Requirement already satisfied: fsspec in /usr/local/lib/python3.10/dist-packages (from gradio-client==1.4.0->gradio) (2024.6.1)\n",
            "Collecting websockets<13.0,>=10.0 (from gradio-client==1.4.0->gradio)\n",
            "  Downloading websockets-12.0-cp310-cp310-manylinux_2_5_x86_64.manylinux1_x86_64.manylinux_2_17_x86_64.manylinux2014_x86_64.whl.metadata (6.6 kB)\n",
            "Requirement already satisfied: idna>=2.8 in /usr/local/lib/python3.10/dist-packages (from anyio<5.0,>=3.0->gradio) (3.10)\n",
            "Requirement already satisfied: sniffio>=1.1 in /usr/local/lib/python3.10/dist-packages (from anyio<5.0,>=3.0->gradio) (1.3.1)\n",
            "Requirement already satisfied: exceptiongroup in /usr/local/lib/python3.10/dist-packages (from anyio<5.0,>=3.0->gradio) (1.2.2)\n",
            "Collecting starlette<0.41.0,>=0.37.2 (from fastapi<1.0->gradio)\n",
            "  Using cached starlette-0.39.2-py3-none-any.whl.metadata (6.0 kB)\n",
            "Requirement already satisfied: certifi in /usr/local/lib/python3.10/dist-packages (from httpx>=0.24.1->gradio) (2024.8.30)\n",
            "Collecting httpcore==1.* (from httpx>=0.24.1->gradio)\n",
            "  Using cached httpcore-1.0.6-py3-none-any.whl.metadata (21 kB)\n",
            "Collecting h11<0.15,>=0.13 (from httpcore==1.*->httpx>=0.24.1->gradio)\n",
            "  Using cached h11-0.14.0-py3-none-any.whl.metadata (8.2 kB)\n",
            "Requirement already satisfied: filelock in /usr/local/lib/python3.10/dist-packages (from huggingface-hub>=0.25.1->gradio) (3.16.1)\n",
            "Requirement already satisfied: requests in /usr/local/lib/python3.10/dist-packages (from huggingface-hub>=0.25.1->gradio) (2.32.3)\n",
            "Requirement already satisfied: tqdm>=4.42.1 in /usr/local/lib/python3.10/dist-packages (from huggingface-hub>=0.25.1->gradio) (4.66.5)\n",
            "Requirement already satisfied: python-dateutil>=2.8.2 in /usr/local/lib/python3.10/dist-packages (from pandas<3.0,>=1.0->gradio) (2.8.2)\n",
            "Requirement already satisfied: pytz>=2020.1 in /usr/local/lib/python3.10/dist-packages (from pandas<3.0,>=1.0->gradio) (2024.2)\n",
            "Requirement already satisfied: tzdata>=2022.7 in /usr/local/lib/python3.10/dist-packages (from pandas<3.0,>=1.0->gradio) (2024.2)\n",
            "Requirement already satisfied: annotated-types>=0.6.0 in /usr/local/lib/python3.10/dist-packages (from pydantic>=2.0->gradio) (0.7.0)\n",
            "Requirement already satisfied: pydantic-core==2.23.4 in /usr/local/lib/python3.10/dist-packages (from pydantic>=2.0->gradio) (2.23.4)\n",
            "Requirement already satisfied: click>=8.0.0 in /usr/local/lib/python3.10/dist-packages (from typer<1.0,>=0.12->gradio) (8.1.7)\n",
            "Requirement already satisfied: shellingham>=1.3.0 in /usr/local/lib/python3.10/dist-packages (from typer<1.0,>=0.12->gradio) (1.5.4)\n",
            "Requirement already satisfied: rich>=10.11.0 in /usr/local/lib/python3.10/dist-packages (from typer<1.0,>=0.12->gradio) (13.9.2)\n",
            "Requirement already satisfied: six>=1.5 in /usr/local/lib/python3.10/dist-packages (from python-dateutil>=2.8.2->pandas<3.0,>=1.0->gradio) (1.16.0)\n",
            "Requirement already satisfied: markdown-it-py>=2.2.0 in /usr/local/lib/python3.10/dist-packages (from rich>=10.11.0->typer<1.0,>=0.12->gradio) (3.0.0)\n",
            "Requirement already satisfied: pygments<3.0.0,>=2.13.0 in /usr/local/lib/python3.10/dist-packages (from rich>=10.11.0->typer<1.0,>=0.12->gradio) (2.18.0)\n",
            "Requirement already satisfied: charset-normalizer<4,>=2 in /usr/local/lib/python3.10/dist-packages (from requests->huggingface-hub>=0.25.1->gradio) (3.3.2)\n",
            "Requirement already satisfied: urllib3<3,>=1.21.1 in /usr/local/lib/python3.10/dist-packages (from requests->huggingface-hub>=0.25.1->gradio) (2.2.3)\n",
            "Requirement already satisfied: mdurl~=0.1 in /usr/local/lib/python3.10/dist-packages (from markdown-it-py>=2.2.0->rich>=10.11.0->typer<1.0,>=0.12->gradio) (0.1.2)\n",
            "Downloading gradio-5.0.2-py3-none-any.whl (42.3 MB)\n",
            "\u001b[2K   \u001b[90m━━━━━━━━━━━━━━━━━━━━━━━━━━━━━━━━━━━━━━━━\u001b[0m \u001b[32m42.3/42.3 MB\u001b[0m \u001b[31m18.2 MB/s\u001b[0m eta \u001b[36m0:00:00\u001b[0m\n",
            "\u001b[?25hDownloading gradio_client-1.4.0-py3-none-any.whl (319 kB)\n",
            "\u001b[2K   \u001b[90m━━━━━━━━━━━━━━━━━━━━━━━━━━━━━━━━━━━━━━━━\u001b[0m \u001b[32m319.8/319.8 kB\u001b[0m \u001b[31m23.4 MB/s\u001b[0m eta \u001b[36m0:00:00\u001b[0m\n",
            "\u001b[?25hUsing cached tomlkit-0.12.0-py3-none-any.whl (37 kB)\n",
            "Using cached aiofiles-23.2.1-py3-none-any.whl (15 kB)\n",
            "Using cached fastapi-0.115.2-py3-none-any.whl (94 kB)\n",
            "Using cached httpx-0.27.2-py3-none-any.whl (76 kB)\n",
            "Using cached httpcore-1.0.6-py3-none-any.whl (78 kB)\n",
            "Downloading huggingface_hub-0.25.2-py3-none-any.whl (436 kB)\n",
            "\u001b[2K   \u001b[90m━━━━━━━━━━━━━━━━━━━━━━━━━━━━━━━━━━━━━━━━\u001b[0m \u001b[32m436.6/436.6 kB\u001b[0m \u001b[31m32.5 MB/s\u001b[0m eta \u001b[36m0:00:00\u001b[0m\n",
            "\u001b[?25hUsing cached orjson-3.10.7-cp310-cp310-manylinux_2_17_x86_64.manylinux2014_x86_64.whl (141 kB)\n",
            "Using cached python_multipart-0.0.12-py3-none-any.whl (23 kB)\n",
            "Using cached ruff-0.6.9-py3-none-manylinux_2_17_x86_64.manylinux2014_x86_64.whl (10.9 MB)\n",
            "Using cached semantic_version-2.10.0-py2.py3-none-any.whl (15 kB)\n",
            "Using cached uvicorn-0.31.1-py3-none-any.whl (63 kB)\n",
            "Using cached ffmpy-0.4.0-py3-none-any.whl (5.8 kB)\n",
            "Using cached pydub-0.25.1-py2.py3-none-any.whl (32 kB)\n",
            "Using cached h11-0.14.0-py3-none-any.whl (58 kB)\n",
            "Using cached starlette-0.39.2-py3-none-any.whl (73 kB)\n",
            "Downloading websockets-12.0-cp310-cp310-manylinux_2_5_x86_64.manylinux1_x86_64.manylinux_2_17_x86_64.manylinux2014_x86_64.whl (130 kB)\n",
            "\u001b[2K   \u001b[90m━━━━━━━━━━━━━━━━━━━━━━━━━━━━━━━━━━━━━━━━\u001b[0m \u001b[32m130.2/130.2 kB\u001b[0m \u001b[31m11.9 MB/s\u001b[0m eta \u001b[36m0:00:00\u001b[0m\n",
            "\u001b[?25hInstalling collected packages: pydub, websockets, tomlkit, semantic-version, ruff, python-multipart, orjson, h11, ffmpy, aiofiles, uvicorn, starlette, huggingface-hub, httpcore, httpx, fastapi, gradio-client, gradio\n",
            "  Attempting uninstall: huggingface-hub\n",
            "    Found existing installation: huggingface-hub 0.24.7\n",
            "    Uninstalling huggingface-hub-0.24.7:\n",
            "      Successfully uninstalled huggingface-hub-0.24.7\n",
            "Successfully installed aiofiles-23.2.1 fastapi-0.115.2 ffmpy-0.4.0 gradio-5.0.2 gradio-client-1.4.0 h11-0.14.0 httpcore-1.0.6 httpx-0.27.2 huggingface-hub-0.25.2 orjson-3.10.7 pydub-0.25.1 python-multipart-0.0.12 ruff-0.6.9 semantic-version-2.10.0 starlette-0.39.2 tomlkit-0.12.0 uvicorn-0.31.1 websockets-12.0\n"
          ]
        },
        {
          "output_type": "display_data",
          "data": {
            "application/vnd.colab-display-data+json": {
              "pip_warning": {
                "packages": [
                  "huggingface_hub"
                ]
              },
              "id": "4a9b9c1b77c44c2e91fd780b7eb5ef83"
            }
          },
          "metadata": {}
        }
      ]
    },
    {
      "cell_type": "code",
      "source": [
        "#@title Use as gradio chatbot\n",
        "import gradio as gr\n",
        "import time\n",
        "\n",
        "def add_message(history, message):\n",
        "    if \"files\" in message and message[\"files\"]:\n",
        "        for file in message[\"files\"]:\n",
        "            history.append(((file,), None))\n",
        "    if \"text\" in message and message[\"text\"] is not None:\n",
        "        history.append((message[\"text\"], None))\n",
        "    return history, gr.update(value=None, interactive=True)\n",
        "\n",
        "def bot(history):\n",
        "    # response = \"**That's cool!**\"\n",
        "\n",
        "    # Extract the last file path and last message\n",
        "    last_file_path = None\n",
        "    last_message = None\n",
        "    for entry in reversed(history):\n",
        "        if last_file_path is None and isinstance(entry[0], tuple):\n",
        "            last_file_path = entry[0][0]\n",
        "        if last_message is None and isinstance(entry[0], str):\n",
        "            last_message = entry[0]\n",
        "        if last_file_path and last_message:\n",
        "            break\n",
        "\n",
        "    if last_file_path:\n",
        "        print(\"Last file path:\", last_file_path)\n",
        "        user_image=last_file_path\n",
        "    else:\n",
        "        user_image=\"\"\n",
        "    if last_message:\n",
        "        print(\"Last message:\", last_message)\n",
        "        question=last_message\n",
        "    else:\n",
        "        question=\"What is shown in this image?\"\n",
        "\n",
        "    response=ask_question(question,user_image)\n",
        "    history.append((\"\", \"\"))\n",
        "    for character in response:\n",
        "        history[-1] = (history[-1][0], history[-1][1] + character)\n",
        "        time.sleep(0.05)\n",
        "        yield history\n",
        "\n",
        "with gr.Blocks() as demo:\n",
        "    chatbot = gr.Chatbot(\n",
        "        [],\n",
        "        elem_id=\"chatbot\",\n",
        "        bubble_full_width=False\n",
        "    )\n",
        "\n",
        "    chat_input = gr.MultimodalTextbox(\n",
        "        interactive=True, file_types=[\"image\"], placeholder=\"Enter message or upload file...\", show_label=False\n",
        "    )\n",
        "\n",
        "    chat_msg = chat_input.submit(add_message, [chatbot, chat_input], [chatbot, chat_input])\n",
        "    bot_msg = chat_msg.then(bot, chatbot, chatbot, api_name=\"bot_response\")\n",
        "    bot_msg.then(lambda: gr.update(interactive=True), None, [chat_input])\n",
        "\n",
        "demo.queue()\n",
        "demo.launch(debug=False)\n"
      ],
      "metadata": {
        "id": "wiyFC2zY3TQ-",
        "colab": {
          "base_uri": "https://localhost:8080/",
          "height": 685
        },
        "outputId": "9a47e2a0-fa3f-439e-dadd-91c37749d70e"
      },
      "execution_count": null,
      "outputs": [
        {
          "output_type": "stream",
          "name": "stderr",
          "text": [
            "/usr/local/lib/python3.10/dist-packages/gradio/components/chatbot.py:222: UserWarning: You have not specified a value for the `type` parameter. Defaulting to the 'tuples' format for chatbot messages, but this is deprecated and will be removed in a future version of Gradio. Please set type='messages' instead, which uses openai-style 'role' and 'content' keys.\n",
            "  warnings.warn(\n"
          ]
        },
        {
          "output_type": "stream",
          "name": "stdout",
          "text": [
            "Setting queue=True in a Colab notebook requires sharing enabled. Setting `share=True` (you can turn this off by setting `share=False` in `launch()` explicitly).\n",
            "\n",
            "Colab notebook detected. To show errors in colab notebook, set debug=True in launch()\n",
            "* Running on public URL: https://b6f27ee5c95d9912d8.gradio.live\n",
            "\n",
            "This share link expires in 72 hours. For free permanent hosting and GPU upgrades, run `gradio deploy` from the terminal in the working directory to deploy to Hugging Face Spaces (https://huggingface.co/spaces)\n"
          ]
        },
        {
          "output_type": "display_data",
          "data": {
            "text/plain": [
              "<IPython.core.display.HTML object>"
            ],
            "text/html": [
              "<div><iframe src=\"https://b6f27ee5c95d9912d8.gradio.live\" width=\"100%\" height=\"500\" allow=\"autoplay; camera; microphone; clipboard-read; clipboard-write;\" frameborder=\"0\" allowfullscreen></iframe></div>"
            ]
          },
          "metadata": {}
        },
        {
          "output_type": "execute_result",
          "data": {
            "text/plain": []
          },
          "metadata": {},
          "execution_count": 7
        }
      ]
    },
    {
      "cell_type": "markdown",
      "source": [
        "# This part for realtime talking with the model"
      ],
      "metadata": {
        "id": "AgJJZZqj3fz3"
      }
    },
    {
      "cell_type": "code",
      "source": [
        "pip install edge-tts\n"
      ],
      "metadata": {
        "colab": {
          "base_uri": "https://localhost:8080/"
        },
        "id": "eh3N9NK46iIG",
        "outputId": "214eca84-005e-4ccd-e26b-a12395ce590b"
      },
      "execution_count": null,
      "outputs": [
        {
          "output_type": "stream",
          "name": "stdout",
          "text": [
            "Collecting edge-tts\n",
            "  Using cached edge_tts-6.1.12-py3-none-any.whl.metadata (4.0 kB)\n",
            "Requirement already satisfied: aiohttp>=3.8.0 in /usr/local/lib/python3.10/dist-packages (from edge-tts) (3.10.9)\n",
            "Requirement already satisfied: certifi>=2023.11.17 in /usr/local/lib/python3.10/dist-packages (from edge-tts) (2024.8.30)\n",
            "Requirement already satisfied: aiohappyeyeballs>=2.3.0 in /usr/local/lib/python3.10/dist-packages (from aiohttp>=3.8.0->edge-tts) (2.4.3)\n",
            "Requirement already satisfied: aiosignal>=1.1.2 in /usr/local/lib/python3.10/dist-packages (from aiohttp>=3.8.0->edge-tts) (1.3.1)\n",
            "Requirement already satisfied: attrs>=17.3.0 in /usr/local/lib/python3.10/dist-packages (from aiohttp>=3.8.0->edge-tts) (24.2.0)\n",
            "Requirement already satisfied: frozenlist>=1.1.1 in /usr/local/lib/python3.10/dist-packages (from aiohttp>=3.8.0->edge-tts) (1.4.1)\n",
            "Requirement already satisfied: multidict<7.0,>=4.5 in /usr/local/lib/python3.10/dist-packages (from aiohttp>=3.8.0->edge-tts) (6.1.0)\n",
            "Requirement already satisfied: yarl<2.0,>=1.12.0 in /usr/local/lib/python3.10/dist-packages (from aiohttp>=3.8.0->edge-tts) (1.13.1)\n",
            "Requirement already satisfied: async-timeout<5.0,>=4.0 in /usr/local/lib/python3.10/dist-packages (from aiohttp>=3.8.0->edge-tts) (4.0.3)\n",
            "Requirement already satisfied: typing-extensions>=4.1.0 in /usr/local/lib/python3.10/dist-packages (from multidict<7.0,>=4.5->aiohttp>=3.8.0->edge-tts) (4.12.2)\n",
            "Requirement already satisfied: idna>=2.0 in /usr/local/lib/python3.10/dist-packages (from yarl<2.0,>=1.12.0->aiohttp>=3.8.0->edge-tts) (3.10)\n",
            "Using cached edge_tts-6.1.12-py3-none-any.whl (29 kB)\n",
            "Installing collected packages: edge-tts\n",
            "Successfully installed edge-tts-6.1.12\n"
          ]
        }
      ]
    },
    {
      "cell_type": "code",
      "execution_count": null,
      "metadata": {
        "colab": {
          "base_uri": "https://localhost:8080/",
          "height": 131
        },
        "id": "nQutAlv3HHSm",
        "outputId": "56434478-863b-44ff-837d-ebba5c932dc3"
      },
      "outputs": [
        {
          "output_type": "stream",
          "name": "stdout",
          "text": [
            "['This is Phi-3-vision-128k-instruct Demo']\n",
            "edge-tts  --rate=+0% --voice en-US-AriaNeural --text \"This is Phi-3-vision-128k-instruct Demo\" --write-media /content/audio/70cf4ba9.mp3\n"
          ]
        },
        {
          "output_type": "execute_result",
          "data": {
            "text/plain": [
              "<IPython.lib.display.Audio object>"
            ],
            "text/html": [
              "\n",
              "                <audio  controls=\"controls\" autoplay=\"autoplay\">\n",
              "                    <source src=\"data:audio/mpeg;base64,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\" type=\"audio/mpeg\" />\n",
              "                    Your browser does not support the audio element.\n",
              "                </audio>\n",
              "              "
            ]
          },
          "metadata": {},
          "execution_count": 9
        }
      ],
      "source": [
        "#@title <run the cell (config edge TTS)\n",
        "def calculate_rate_string(input_value):\n",
        "    rate = (input_value - 1) * 100\n",
        "    sign = '+' if input_value >= 1 else '-'\n",
        "    return f\"{sign}{abs(int(rate))}\"\n",
        "\n",
        "\n",
        "def make_chunks(input_text, language):\n",
        "    language=\"English\"\n",
        "    if language == \"English\":\n",
        "      temp_list = input_text.strip().split(\".\")\n",
        "      filtered_list = [element.strip() + '.' for element in temp_list[:-1] if element.strip() and element.strip() != \"'\" and element.strip() != '\"']\n",
        "      if temp_list[-1].strip():\n",
        "          filtered_list.append(temp_list[-1].strip())\n",
        "      return filtered_list\n",
        "\n",
        "\n",
        "\n",
        "\n",
        "import re\n",
        "import uuid\n",
        "def tts_file_name(text):\n",
        "    if text.endswith(\".\"):\n",
        "        text = text[:-1]\n",
        "    text = text.lower()\n",
        "    text = text.strip()\n",
        "    text = text.replace(\" \",\"_\")\n",
        "    truncated_text = text[:25] if len(text) > 25 else text if len(text) > 0 else \"empty\"\n",
        "    random_string = uuid.uuid4().hex[:8].upper()\n",
        "    file_name = f\"/content/edge_tts_voice/{truncated_text}_{random_string}.mp3\"\n",
        "    return file_name\n",
        "\n",
        "\n",
        "from pydub import AudioSegment\n",
        "import shutil\n",
        "import os\n",
        "def merge_audio_files(audio_paths, output_path):\n",
        "    # Initialize an empty AudioSegment\n",
        "    merged_audio = AudioSegment.silent(duration=0)\n",
        "\n",
        "    # Iterate through each audio file path\n",
        "    for audio_path in audio_paths:\n",
        "        # Load the audio file using Pydub\n",
        "        audio = AudioSegment.from_file(audio_path)\n",
        "\n",
        "        # Append the current audio file to the merged_audio\n",
        "        merged_audio += audio\n",
        "\n",
        "    # Export the merged audio to the specified output path\n",
        "    merged_audio.export(output_path, format=\"mp3\")\n",
        "\n",
        "def edge_free_tts(chunks_list,speed,voice_name,save_path):\n",
        "  print(chunks_list)\n",
        "  if len(chunks_list)>1:\n",
        "    chunk_audio_list=[]\n",
        "    if os.path.exists(\"/content/edge_tts_voice\"):\n",
        "      shutil.rmtree(\"/content/edge_tts_voice\")\n",
        "    os.mkdir(\"/content/edge_tts_voice\")\n",
        "    k=1\n",
        "    for i in chunks_list:\n",
        "      print(i)\n",
        "      edge_command=f'edge-tts  --rate={calculate_rate_string(speed)}% --voice {voice_name} --text \"{i}\" --write-media /content/edge_tts_voice/{k}.mp3'\n",
        "      print(edge_command)\n",
        "      var1=os.system(edge_command)\n",
        "      if var1==0:\n",
        "        pass\n",
        "      else:\n",
        "        print(f\"Failed: {i}\")\n",
        "      chunk_audio_list.append(f\"/content/edge_tts_voice/{k}.mp3\")\n",
        "      k+=1\n",
        "    print(chunk_audio_list)\n",
        "    merge_audio_files(chunk_audio_list, save_path)\n",
        "  else:\n",
        "    edge_command=f'edge-tts  --rate={calculate_rate_string(speed)}% --voice {voice_name} --text \"{chunks_list[0]}\" --write-media {save_path}'\n",
        "    print(edge_command)\n",
        "    var2=os.system(edge_command)\n",
        "    if var2==0:\n",
        "      pass\n",
        "    else:\n",
        "      print(f\"Failed: {chunks_list[0]}\")\n",
        "  return save_path\n",
        "\n",
        "\n",
        "text = 'This is Phi-3-vision-128k-instruct Demo'  # @param {type: \"string\"}\n",
        "Language = \"English\" # @param ['English']\n",
        "\n",
        "Gender = \"Female\"# @param ['Male', 'Female']\n",
        "female_voice=\"en-US-AriaNeural\"# @param[\"en-US-AriaNeural\",'zh-CN-XiaoxiaoNeural','zh-CN-XiaoyiNeural']\n",
        "speed = 1  # @param {type: \"number\"}\n",
        "translate_text_flag  = False\n",
        "long_sentence = False # @param {type:\"boolean\"}\n",
        "save_path = '/content/edge.wav'  # @param {type: \"string\"}\n",
        "if len(save_path)==0:\n",
        "  save_path=tts_file_name(text)\n",
        "if Language == \"English\" :\n",
        "  if Gender==\"Male\":\n",
        "    voice_name=\"en-US-ChristopherNeural\"\n",
        "  if Gender==\"Female\":\n",
        "    voice_name=female_voice\n",
        "    # voice_name=\"en-US-AriaNeural\"\n",
        "\n",
        "\n",
        "if translate_text_flag:\n",
        "  input_text=text\n",
        "  # input_text=translate_text(text, Language)\n",
        "  # print(\"Translateting\")\n",
        "else:\n",
        "  input_text=text\n",
        "if long_sentence==True and translate_text_flag==True:\n",
        "  chunks_list=make_chunks(input_text,Language)\n",
        "elif long_sentence==True and translate_text_flag==False:\n",
        "  chunks_list=make_chunks(input_text,\"English\")\n",
        "else:\n",
        "  chunks_list=[input_text]\n",
        "# print(chunks_list)\n",
        "# edge_save_path=edge_free_tts(chunks_list,speed,voice_name,save_path)\n",
        "# from IPython.display import clear_output\n",
        "# clear_output()\n",
        "# from IPython.display import Audio\n",
        "# Audio(edge_save_path, autoplay=True)\n",
        "\n",
        "from IPython.display import clear_output\n",
        "from IPython.display import Audio\n",
        "if not os.path.exists(\"/content/audio\"):\n",
        "    os.mkdir(\"/content/audio\")\n",
        "import uuid\n",
        "def random_audio_name_generate():\n",
        "  random_uuid = uuid.uuid4()\n",
        "  audio_extension = \".mp3\"\n",
        "  random_audio_name = str(random_uuid)[:8] + audio_extension\n",
        "  return random_audio_name\n",
        "def talk(input_text):\n",
        "  global long_sentence,translate_text_flag,Language,speed,voice_name\n",
        "  if long_sentence==True and translate_text_flag==True:\n",
        "    chunks_list=make_chunks(input_text,Language)\n",
        "  elif long_sentence==True and translate_text_flag==False:\n",
        "    chunks_list=make_chunks(input_text,\"English\")\n",
        "  else:\n",
        "    chunks_list=[input_text]\n",
        "  save_path=\"/content/audio/\"+random_audio_name_generate()\n",
        "  edge_save_path=edge_free_tts(chunks_list,speed,voice_name,save_path)\n",
        "  return edge_save_path\n",
        "\n",
        "\n",
        "edge_save_path=talk(text)\n",
        "Audio(edge_save_path, autoplay=True)"
      ]
    },
    {
      "cell_type": "code",
      "execution_count": null,
      "metadata": {
        "id": "Ah4V-OqbgDfS"
      },
      "outputs": [],
      "source": [
        "#@title utils for graido\n",
        "\n",
        "import uuid\n",
        "def random_image_name():\n",
        "  random_uuid = uuid.uuid4()\n",
        "  image_extension = \".jpg\"\n",
        "  random_image_name = str(random_uuid)[:8] + image_extension\n",
        "  return random_image_name\n",
        "import shutil\n",
        "import os\n",
        "import uuid\n",
        "from PIL import Image\n",
        "\n",
        "if not os.path.exists(\"/content/upload\"):\n",
        "    os.mkdir(\"/content/upload\")\n",
        "\n",
        "def process_upload_image(prompt, gradio_image):\n",
        "    print(gradio_image)\n",
        "    print(type(gradio_image))\n",
        "    try:\n",
        "        # Handle PIL format image\n",
        "        image = Image.open(gradio_image)\n",
        "        # Generate a random image name using UUID\n",
        "        image_name = random_image_name()\n",
        "        # Save the image to the upload directory\n",
        "        copy_image_path = os.path.join(\"/content/upload\", image_name)\n",
        "        print(f\"Upload Image Saved at {copy_image_path}\")\n",
        "        image.save(copy_image_path)\n",
        "        answer=ask_question(prompt,copy_image_path)\n",
        "        edge_save_path=talk(answer)\n",
        "        return edge_save_path\n",
        "    except Exception as e:\n",
        "        print(f\"Error: {e}\")\n",
        "        copy_image_path=f\"/content/upload/{random_image_name()}\"\n",
        "        gradio_image.save(copy_image_path)\n",
        "        print(f\"Upload Image Saved at {copy_image_path}\")\n",
        "        answer=ask_question(prompt,copy_image_path)\n",
        "        edge_save_path=talk(answer)\n",
        "        return edge_save_path\n",
        "\n",
        "# # Example usage:\n",
        "# gradio_image_path = \"/content/monalisa.jpg\"  # Replace with the actual path to your image\n",
        "# prompt = \"What's going on? Respond with a single sentence.\"\n",
        "# process_upload_image(prompt, gradio_image_path)\n",
        "# gradio_image_path = Image.open(\"/content/monalisa.jpg\")\n",
        "# process_upload_image(prompt, gradio_image_path)"
      ]
    },
    {
      "cell_type": "code",
      "execution_count": null,
      "metadata": {
        "id": "3bXnGwosiSAf",
        "colab": {
          "base_uri": "https://localhost:8080/",
          "height": 613
        },
        "outputId": "50bc5018-3592-4957-f4e2-48722e49c4d2"
      },
      "outputs": [
        {
          "output_type": "stream",
          "name": "stdout",
          "text": [
            "Colab notebook detected. To show errors in colab notebook, set debug=True in launch()\n",
            "* Running on public URL: https://3c4ffb17c539d5cd5b.gradio.live\n",
            "\n",
            "This share link expires in 72 hours. For free permanent hosting and GPU upgrades, run `gradio deploy` from the terminal in the working directory to deploy to Hugging Face Spaces (https://huggingface.co/spaces)\n"
          ]
        },
        {
          "output_type": "display_data",
          "data": {
            "text/plain": [
              "<IPython.core.display.HTML object>"
            ],
            "text/html": [
              "<div><iframe src=\"https://3c4ffb17c539d5cd5b.gradio.live\" width=\"100%\" height=\"500\" allow=\"autoplay; camera; microphone; clipboard-read; clipboard-write;\" frameborder=\"0\" allowfullscreen></iframe></div>"
            ]
          },
          "metadata": {}
        },
        {
          "output_type": "execute_result",
          "data": {
            "text/plain": []
          },
          "metadata": {},
          "execution_count": 11
        }
      ],
      "source": [
        "#@title Run Gradio app and copy the url [For realtime]\n",
        "\n",
        "import gradio as gr\n",
        "image_inputs=[gr.Textbox(label=\"Write Prompt\",value=\"What's going on? Respond with a single sentence.\"),gr.Image(type='pil',label=\"Upload a Image\")]\n",
        "# image_outputs=[gr.Textbox(label=\"Result\")]\n",
        "image_outputs=[gr.File(label=\"Result\")]\n",
        "\n",
        "app_demo = gr.Interface(fn=process_upload_image, inputs=image_inputs,outputs=image_outputs , title=\"MoonDream\")\n",
        "app_demo.launch(share=True,debug=False)"
      ]
    }
  ],
  "metadata": {
    "accelerator": "GPU",
    "colab": {
      "gpuType": "T4",
      "provenance": []
    },
    "kernelspec": {
      "display_name": "Python 3",
      "name": "python3"
    },
    "language_info": {
      "name": "python"
    },
    "widgets": {
      "application/vnd.jupyter.widget-state+json": {
        "baefad86601246999fefcb32c9fbbc3c": {
          "model_module": "@jupyter-widgets/controls",
          "model_name": "HBoxModel",
          "model_module_version": "1.5.0",
          "state": {
            "_dom_classes": [],
            "_model_module": "@jupyter-widgets/controls",
            "_model_module_version": "1.5.0",
            "_model_name": "HBoxModel",
            "_view_count": null,
            "_view_module": "@jupyter-widgets/controls",
            "_view_module_version": "1.5.0",
            "_view_name": "HBoxView",
            "box_style": "",
            "children": [
              "IPY_MODEL_ea49aed15b314c73bf7ce49b8473cf81",
              "IPY_MODEL_978aaa1d0eb647c9ad6ad7ed63b3a1a2",
              "IPY_MODEL_95fd5285e5c841c4b54b35cc0182c54e"
            ],
            "layout": "IPY_MODEL_6d5cb9314a634a6f89c4c204acdc5a52"
          }
        },
        "ea49aed15b314c73bf7ce49b8473cf81": {
          "model_module": "@jupyter-widgets/controls",
          "model_name": "HTMLModel",
          "model_module_version": "1.5.0",
          "state": {
            "_dom_classes": [],
            "_model_module": "@jupyter-widgets/controls",
            "_model_module_version": "1.5.0",
            "_model_name": "HTMLModel",
            "_view_count": null,
            "_view_module": "@jupyter-widgets/controls",
            "_view_module_version": "1.5.0",
            "_view_name": "HTMLView",
            "description": "",
            "description_tooltip": null,
            "layout": "IPY_MODEL_d0041e7e3a0448af801cf9b7d314e249",
            "placeholder": "​",
            "style": "IPY_MODEL_66a480f2c59045f8901a5f23197e7251",
            "value": "Loading checkpoint shards: 100%"
          }
        },
        "978aaa1d0eb647c9ad6ad7ed63b3a1a2": {
          "model_module": "@jupyter-widgets/controls",
          "model_name": "FloatProgressModel",
          "model_module_version": "1.5.0",
          "state": {
            "_dom_classes": [],
            "_model_module": "@jupyter-widgets/controls",
            "_model_module_version": "1.5.0",
            "_model_name": "FloatProgressModel",
            "_view_count": null,
            "_view_module": "@jupyter-widgets/controls",
            "_view_module_version": "1.5.0",
            "_view_name": "ProgressView",
            "bar_style": "success",
            "description": "",
            "description_tooltip": null,
            "layout": "IPY_MODEL_7dda8d0226704e5e86564c5c1d4dd33c",
            "max": 2,
            "min": 0,
            "orientation": "horizontal",
            "style": "IPY_MODEL_5ec14d6594fc4ac4b0ea91bea8ecfdd3",
            "value": 2
          }
        },
        "95fd5285e5c841c4b54b35cc0182c54e": {
          "model_module": "@jupyter-widgets/controls",
          "model_name": "HTMLModel",
          "model_module_version": "1.5.0",
          "state": {
            "_dom_classes": [],
            "_model_module": "@jupyter-widgets/controls",
            "_model_module_version": "1.5.0",
            "_model_name": "HTMLModel",
            "_view_count": null,
            "_view_module": "@jupyter-widgets/controls",
            "_view_module_version": "1.5.0",
            "_view_name": "HTMLView",
            "description": "",
            "description_tooltip": null,
            "layout": "IPY_MODEL_dd1b80f4f897478e9dbe934c4099bd65",
            "placeholder": "​",
            "style": "IPY_MODEL_d27b8ef107ab4a319306102de5a6fd3c",
            "value": " 2/2 [00:36&lt;00:00, 17.89s/it]"
          }
        },
        "6d5cb9314a634a6f89c4c204acdc5a52": {
          "model_module": "@jupyter-widgets/base",
          "model_name": "LayoutModel",
          "model_module_version": "1.2.0",
          "state": {
            "_model_module": "@jupyter-widgets/base",
            "_model_module_version": "1.2.0",
            "_model_name": "LayoutModel",
            "_view_count": null,
            "_view_module": "@jupyter-widgets/base",
            "_view_module_version": "1.2.0",
            "_view_name": "LayoutView",
            "align_content": null,
            "align_items": null,
            "align_self": null,
            "border": null,
            "bottom": null,
            "display": null,
            "flex": null,
            "flex_flow": null,
            "grid_area": null,
            "grid_auto_columns": null,
            "grid_auto_flow": null,
            "grid_auto_rows": null,
            "grid_column": null,
            "grid_gap": null,
            "grid_row": null,
            "grid_template_areas": null,
            "grid_template_columns": null,
            "grid_template_rows": null,
            "height": null,
            "justify_content": null,
            "justify_items": null,
            "left": null,
            "margin": null,
            "max_height": null,
            "max_width": null,
            "min_height": null,
            "min_width": null,
            "object_fit": null,
            "object_position": null,
            "order": null,
            "overflow": null,
            "overflow_x": null,
            "overflow_y": null,
            "padding": null,
            "right": null,
            "top": null,
            "visibility": null,
            "width": null
          }
        },
        "d0041e7e3a0448af801cf9b7d314e249": {
          "model_module": "@jupyter-widgets/base",
          "model_name": "LayoutModel",
          "model_module_version": "1.2.0",
          "state": {
            "_model_module": "@jupyter-widgets/base",
            "_model_module_version": "1.2.0",
            "_model_name": "LayoutModel",
            "_view_count": null,
            "_view_module": "@jupyter-widgets/base",
            "_view_module_version": "1.2.0",
            "_view_name": "LayoutView",
            "align_content": null,
            "align_items": null,
            "align_self": null,
            "border": null,
            "bottom": null,
            "display": null,
            "flex": null,
            "flex_flow": null,
            "grid_area": null,
            "grid_auto_columns": null,
            "grid_auto_flow": null,
            "grid_auto_rows": null,
            "grid_column": null,
            "grid_gap": null,
            "grid_row": null,
            "grid_template_areas": null,
            "grid_template_columns": null,
            "grid_template_rows": null,
            "height": null,
            "justify_content": null,
            "justify_items": null,
            "left": null,
            "margin": null,
            "max_height": null,
            "max_width": null,
            "min_height": null,
            "min_width": null,
            "object_fit": null,
            "object_position": null,
            "order": null,
            "overflow": null,
            "overflow_x": null,
            "overflow_y": null,
            "padding": null,
            "right": null,
            "top": null,
            "visibility": null,
            "width": null
          }
        },
        "66a480f2c59045f8901a5f23197e7251": {
          "model_module": "@jupyter-widgets/controls",
          "model_name": "DescriptionStyleModel",
          "model_module_version": "1.5.0",
          "state": {
            "_model_module": "@jupyter-widgets/controls",
            "_model_module_version": "1.5.0",
            "_model_name": "DescriptionStyleModel",
            "_view_count": null,
            "_view_module": "@jupyter-widgets/base",
            "_view_module_version": "1.2.0",
            "_view_name": "StyleView",
            "description_width": ""
          }
        },
        "7dda8d0226704e5e86564c5c1d4dd33c": {
          "model_module": "@jupyter-widgets/base",
          "model_name": "LayoutModel",
          "model_module_version": "1.2.0",
          "state": {
            "_model_module": "@jupyter-widgets/base",
            "_model_module_version": "1.2.0",
            "_model_name": "LayoutModel",
            "_view_count": null,
            "_view_module": "@jupyter-widgets/base",
            "_view_module_version": "1.2.0",
            "_view_name": "LayoutView",
            "align_content": null,
            "align_items": null,
            "align_self": null,
            "border": null,
            "bottom": null,
            "display": null,
            "flex": null,
            "flex_flow": null,
            "grid_area": null,
            "grid_auto_columns": null,
            "grid_auto_flow": null,
            "grid_auto_rows": null,
            "grid_column": null,
            "grid_gap": null,
            "grid_row": null,
            "grid_template_areas": null,
            "grid_template_columns": null,
            "grid_template_rows": null,
            "height": null,
            "justify_content": null,
            "justify_items": null,
            "left": null,
            "margin": null,
            "max_height": null,
            "max_width": null,
            "min_height": null,
            "min_width": null,
            "object_fit": null,
            "object_position": null,
            "order": null,
            "overflow": null,
            "overflow_x": null,
            "overflow_y": null,
            "padding": null,
            "right": null,
            "top": null,
            "visibility": null,
            "width": null
          }
        },
        "5ec14d6594fc4ac4b0ea91bea8ecfdd3": {
          "model_module": "@jupyter-widgets/controls",
          "model_name": "ProgressStyleModel",
          "model_module_version": "1.5.0",
          "state": {
            "_model_module": "@jupyter-widgets/controls",
            "_model_module_version": "1.5.0",
            "_model_name": "ProgressStyleModel",
            "_view_count": null,
            "_view_module": "@jupyter-widgets/base",
            "_view_module_version": "1.2.0",
            "_view_name": "StyleView",
            "bar_color": null,
            "description_width": ""
          }
        },
        "dd1b80f4f897478e9dbe934c4099bd65": {
          "model_module": "@jupyter-widgets/base",
          "model_name": "LayoutModel",
          "model_module_version": "1.2.0",
          "state": {
            "_model_module": "@jupyter-widgets/base",
            "_model_module_version": "1.2.0",
            "_model_name": "LayoutModel",
            "_view_count": null,
            "_view_module": "@jupyter-widgets/base",
            "_view_module_version": "1.2.0",
            "_view_name": "LayoutView",
            "align_content": null,
            "align_items": null,
            "align_self": null,
            "border": null,
            "bottom": null,
            "display": null,
            "flex": null,
            "flex_flow": null,
            "grid_area": null,
            "grid_auto_columns": null,
            "grid_auto_flow": null,
            "grid_auto_rows": null,
            "grid_column": null,
            "grid_gap": null,
            "grid_row": null,
            "grid_template_areas": null,
            "grid_template_columns": null,
            "grid_template_rows": null,
            "height": null,
            "justify_content": null,
            "justify_items": null,
            "left": null,
            "margin": null,
            "max_height": null,
            "max_width": null,
            "min_height": null,
            "min_width": null,
            "object_fit": null,
            "object_position": null,
            "order": null,
            "overflow": null,
            "overflow_x": null,
            "overflow_y": null,
            "padding": null,
            "right": null,
            "top": null,
            "visibility": null,
            "width": null
          }
        },
        "d27b8ef107ab4a319306102de5a6fd3c": {
          "model_module": "@jupyter-widgets/controls",
          "model_name": "DescriptionStyleModel",
          "model_module_version": "1.5.0",
          "state": {
            "_model_module": "@jupyter-widgets/controls",
            "_model_module_version": "1.5.0",
            "_model_name": "DescriptionStyleModel",
            "_view_count": null,
            "_view_module": "@jupyter-widgets/base",
            "_view_module_version": "1.2.0",
            "_view_name": "StyleView",
            "description_width": ""
          }
        }
      }
    }
  },
  "nbformat": 4,
  "nbformat_minor": 0
}